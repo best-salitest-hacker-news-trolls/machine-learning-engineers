{
 "cells": [
  {
   "cell_type": "code",
   "execution_count": 1,
   "metadata": {},
   "outputs": [],
   "source": [
    "import os\n",
    "os.environ[\"GOOGLE_APPLICATION_CREDENTIALS\"]=\"Speed Op Google Signin-ff8d3702ea7d.json\""
   ]
  },
  {
   "cell_type": "code",
   "execution_count": 2,
   "metadata": {},
   "outputs": [],
   "source": [
    "from google.cloud import bigquery\n"
   ]
  },
  {
   "cell_type": "code",
   "execution_count": 3,
   "metadata": {},
   "outputs": [],
   "source": [
    "client = bigquery.Client()"
   ]
  },
  {
   "cell_type": "code",
   "execution_count": 4,
   "metadata": {},
   "outputs": [],
   "source": [
    "hn_dataset_ref = client.dataset('hacker_news', project='bigquery-public-data')"
   ]
  },
  {
   "cell_type": "code",
   "execution_count": 5,
   "metadata": {},
   "outputs": [
    {
     "data": {
      "text/plain": [
       "google.cloud.bigquery.dataset.DatasetReference"
      ]
     },
     "execution_count": 5,
     "metadata": {},
     "output_type": "execute_result"
    }
   ],
   "source": [
    "type(hn_dataset_ref)"
   ]
  },
  {
   "cell_type": "code",
   "execution_count": 6,
   "metadata": {},
   "outputs": [],
   "source": [
    "hn_dset = client.get_dataset(hn_dataset_ref)"
   ]
  },
  {
   "cell_type": "code",
   "execution_count": 7,
   "metadata": {},
   "outputs": [
    {
     "data": {
      "text/plain": [
       "google.cloud.bigquery.dataset.Dataset"
      ]
     },
     "execution_count": 7,
     "metadata": {},
     "output_type": "execute_result"
    }
   ],
   "source": [
    "type(hn_dset)"
   ]
  },
  {
   "cell_type": "code",
   "execution_count": 8,
   "metadata": {},
   "outputs": [
    {
     "data": {
      "text/plain": [
       "['comments', 'full', 'full_201510', 'stories']"
      ]
     },
     "execution_count": 8,
     "metadata": {},
     "output_type": "execute_result"
    }
   ],
   "source": [
    "[x.table_id for x in client.list_tables(hn_dset)]"
   ]
  },
  {
   "cell_type": "code",
   "execution_count": 9,
   "metadata": {},
   "outputs": [],
   "source": [
    "hn_full = client.get_table(hn_dset.table('full'))"
   ]
  },
  {
   "cell_type": "code",
   "execution_count": 10,
   "metadata": {},
   "outputs": [
    {
     "data": {
      "text/plain": [
       "google.cloud.bigquery.table.Table"
      ]
     },
     "execution_count": 10,
     "metadata": {},
     "output_type": "execute_result"
    }
   ],
   "source": [
    "type(hn_full)"
   ]
  },
  {
   "cell_type": "code",
   "execution_count": 11,
   "metadata": {},
   "outputs": [
    {
     "data": {
      "text/plain": [
       "['clustering_fields',\n",
       " 'created',\n",
       " 'dataset_id',\n",
       " 'description',\n",
       " 'encryption_configuration',\n",
       " 'etag',\n",
       " 'expires',\n",
       " 'external_data_configuration',\n",
       " 'friendly_name',\n",
       " 'from_api_repr',\n",
       " 'from_string',\n",
       " 'full_table_id',\n",
       " 'labels',\n",
       " 'location',\n",
       " 'modified',\n",
       " 'num_bytes',\n",
       " 'num_rows',\n",
       " 'partition_expiration',\n",
       " 'partitioning_type',\n",
       " 'path',\n",
       " 'project',\n",
       " 'range_partitioning',\n",
       " 'reference',\n",
       " 'require_partition_filter',\n",
       " 'schema',\n",
       " 'self_link',\n",
       " 'streaming_buffer',\n",
       " 'table_id',\n",
       " 'table_type',\n",
       " 'time_partitioning',\n",
       " 'to_api_repr',\n",
       " 'to_bqstorage',\n",
       " 'view_query',\n",
       " 'view_use_legacy_sql']"
      ]
     },
     "execution_count": 11,
     "metadata": {},
     "output_type": "execute_result"
    }
   ],
   "source": [
    "[command for command in dir(hn_full) if not command.startswith('_')]"
   ]
  },
  {
   "cell_type": "code",
   "execution_count": 12,
   "metadata": {},
   "outputs": [
    {
     "data": {
      "text/plain": [
       "[SchemaField('title', 'STRING', 'NULLABLE', 'Story title', ()),\n",
       " SchemaField('url', 'STRING', 'NULLABLE', 'Story url', ()),\n",
       " SchemaField('text', 'STRING', 'NULLABLE', 'Story or comment text', ()),\n",
       " SchemaField('dead', 'BOOLEAN', 'NULLABLE', 'Is dead?', ()),\n",
       " SchemaField('by', 'STRING', 'NULLABLE', \"The username of the item's author.\", ()),\n",
       " SchemaField('score', 'INTEGER', 'NULLABLE', 'Story score', ()),\n",
       " SchemaField('time', 'INTEGER', 'NULLABLE', 'Unix time', ()),\n",
       " SchemaField('timestamp', 'TIMESTAMP', 'NULLABLE', 'Timestamp for the unix time', ()),\n",
       " SchemaField('type', 'STRING', 'NULLABLE', 'Type of details (comment, comment_ranking, poll, story, job, pollopt)', ()),\n",
       " SchemaField('id', 'INTEGER', 'NULLABLE', \"The item's unique id.\", ()),\n",
       " SchemaField('parent', 'INTEGER', 'NULLABLE', 'Parent comment ID', ()),\n",
       " SchemaField('descendants', 'INTEGER', 'NULLABLE', 'Number of story or poll descendants', ()),\n",
       " SchemaField('ranking', 'INTEGER', 'NULLABLE', 'Comment ranking', ()),\n",
       " SchemaField('deleted', 'BOOLEAN', 'NULLABLE', 'Is deleted?', ())]"
      ]
     },
     "execution_count": 12,
     "metadata": {},
     "output_type": "execute_result"
    }
   ],
   "source": [
    "hn_full.schema"
   ]
  },
  {
   "cell_type": "code",
   "execution_count": 13,
   "metadata": {},
   "outputs": [],
   "source": [
    "schema_subset = [col for col in hn_full.schema if col.name in ('by', 'title', 'time')]\n",
    "results = [x for x in client.list_rows(hn_full, start_index=100, selected_fields=schema_subset, max_results=10)]"
   ]
  },
  {
   "cell_type": "code",
   "execution_count": 14,
   "metadata": {},
   "outputs": [],
   "source": [
    "schema_subset = [col for col in hn_full.schema if col.name in ('by', 'title', 'time')]\n",
    "results = [x for x in client.list_rows(hn_full, start_index=100, selected_fields=schema_subset, max_results=10)]"
   ]
  },
  {
   "cell_type": "code",
   "execution_count": 15,
   "metadata": {},
   "outputs": [
    {
     "name": "stdout",
     "output_type": "stream",
     "text": [
      "{'title': None, 'by': 'drewcrawford', 'time': 1438467238}\n",
      "{'title': None, 'by': 'pibefision', 'time': 1262720406}\n",
      "{'title': None, 'by': 'Recoil42', 'time': 1363216473}\n",
      "{'title': None, 'by': 'sargun', 'time': 1364502918}\n",
      "{'title': None, 'by': 'ams6110', 'time': 1536201953}\n",
      "{'title': None, 'by': 'danielvinson', 'time': 1536966263}\n",
      "{'title': None, 'by': 'rweichler', 'time': 1496257980}\n",
      "{'title': None, 'by': 'feross', 'time': 1543718244}\n",
      "{'title': None, 'by': 'Cthulhu_', 'time': 1417782911}\n",
      "{'title': None, 'by': 'talkingquickly', 'time': 1428410268}\n"
     ]
    }
   ],
   "source": [
    "for i in results:\n",
    "    print(dict(i))"
   ]
  },
  {
   "cell_type": "code",
   "execution_count": 16,
   "metadata": {},
   "outputs": [],
   "source": [
    "import pandas as pd"
   ]
  },
  {
   "cell_type": "code",
   "execution_count": 17,
   "metadata": {},
   "outputs": [],
   "source": [
    "# pip install google-cloud-bigquery-storage"
   ]
  },
  {
   "cell_type": "code",
   "execution_count": 18,
   "metadata": {},
   "outputs": [],
   "source": [
    "import google.cloud.bigquery.magics\n",
    "\n",
    "google.cloud.bigquery.magics.context.use_bqstorage_api = True"
   ]
  },
  {
   "cell_type": "code",
   "execution_count": 19,
   "metadata": {},
   "outputs": [],
   "source": [
    "from google.cloud import bigquery_storage_v1beta1\n",
    "\n",
    "\n",
    "bqstorageclient = bigquery_storage_v1beta1.BigQueryStorageClient()"
   ]
  },
  {
   "cell_type": "code",
   "execution_count": 23,
   "metadata": {},
   "outputs": [
    {
     "data": {
      "text/plain": [
       "[SchemaField('id', 'INTEGER', 'NULLABLE', 'Unique comment ID', ()),\n",
       " SchemaField('by', 'STRING', 'NULLABLE', 'Username of commenter', ()),\n",
       " SchemaField('author', 'STRING', 'NULLABLE', 'Username of author', ()),\n",
       " SchemaField('time', 'INTEGER', 'NULLABLE', 'Unix time', ()),\n",
       " SchemaField('time_ts', 'TIMESTAMP', 'NULLABLE', 'Human readable time in UTC (format: YYYY-MM-DD hh:mm:ss)', ()),\n",
       " SchemaField('text', 'STRING', 'NULLABLE', 'Comment text', ()),\n",
       " SchemaField('parent', 'INTEGER', 'NULLABLE', 'Parent comment ID', ()),\n",
       " SchemaField('deleted', 'BOOLEAN', 'NULLABLE', 'Is deleted?', ()),\n",
       " SchemaField('dead', 'BOOLEAN', 'NULLABLE', 'Is dead?', ()),\n",
       " SchemaField('ranking', 'INTEGER', 'NULLABLE', 'Comment ranking', ())]"
      ]
     },
     "execution_count": 23,
     "metadata": {},
     "output_type": "execute_result"
    }
   ],
   "source": [
    "hn_comments = client.get_table(hn_dset.table('comments'))\n",
    "hn_comments.schema"
   ]
  },
  {
   "cell_type": "code",
   "execution_count": 20,
   "metadata": {},
   "outputs": [],
   "source": [
    "# pip install pyarrow"
   ]
  },
  {
   "cell_type": "code",
   "execution_count": 29,
   "metadata": {},
   "outputs": [
    {
     "name": "stdout",
     "output_type": "stream",
     "text": [
      "         id   by author        time                   time_ts  \\\n",
      "0   2080961  rdl    rdl  1294431264 2011-01-07 20:14:24+00:00   \n",
      "1   3721745  rdl    rdl  1332119567 2012-03-19 01:12:47+00:00   \n",
      "2   5127745  rdl    rdl  1359363674 2013-01-28 09:01:14+00:00   \n",
      "3  10105050  rdl    rdl  1440319572 2015-08-23 08:46:12+00:00   \n",
      "4     46875  rms    rms  1188186242 2007-08-27 03:44:02+00:00   \n",
      "\n",
      "                                                text    parent deleted  dead  \\\n",
      "0  I think there is some assumption that Amazon r...   2078093    None  None   \n",
      "1  It's taken as a sign that the company doesn't ...   3721320    None  None   \n",
      "2  The other question is -- do you want to be Top...   5127269    None  None   \n",
      "3  Yeah, the pmarca&#x2F;thiel one was dramatical...  10105028    None  None   \n",
      "4  Doesn't work in Firefox 3; it's still pretty c...     46872    None  None   \n",
      "\n",
      "   ranking  \n",
      "0        1  \n",
      "1        1  \n",
      "2        1  \n",
      "3        1  \n",
      "4        1  \n"
     ]
    }
   ],
   "source": [
    "# Download query results.\n",
    "\n",
    "\n",
    "\n",
    "query_string = \"SELECT * FROM `bigquery-public-data.hacker_news.comments`\"\n",
    "dataframe = (\n",
    "    client.query(query_string)\n",
    "    .result()\n",
    "    .to_dataframe(bqstorage_client=bqstorageclient)\n",
    ")\n",
    "print(dataframe.head())"
   ]
  },
  {
   "cell_type": "code",
   "execution_count": 46,
   "metadata": {},
   "outputs": [
    {
     "data": {
      "text/html": [
       "<div>\n",
       "<style scoped>\n",
       "    .dataframe tbody tr th:only-of-type {\n",
       "        vertical-align: middle;\n",
       "    }\n",
       "\n",
       "    .dataframe tbody tr th {\n",
       "        vertical-align: top;\n",
       "    }\n",
       "\n",
       "    .dataframe thead th {\n",
       "        text-align: right;\n",
       "    }\n",
       "</style>\n",
       "<table border=\"1\" class=\"dataframe\">\n",
       "  <thead>\n",
       "    <tr style=\"text-align: right;\">\n",
       "      <th></th>\n",
       "      <th>id</th>\n",
       "      <th>by</th>\n",
       "      <th>author</th>\n",
       "      <th>time</th>\n",
       "      <th>time_ts</th>\n",
       "      <th>text</th>\n",
       "      <th>parent</th>\n",
       "      <th>deleted</th>\n",
       "      <th>dead</th>\n",
       "      <th>ranking</th>\n",
       "    </tr>\n",
       "  </thead>\n",
       "  <tbody>\n",
       "    <tr>\n",
       "      <th>0</th>\n",
       "      <td>2080961</td>\n",
       "      <td>rdl</td>\n",
       "      <td>rdl</td>\n",
       "      <td>1294431264</td>\n",
       "      <td>2011-01-07 20:14:24+00:00</td>\n",
       "      <td>I think there is some assumption that Amazon r...</td>\n",
       "      <td>2078093</td>\n",
       "      <td>None</td>\n",
       "      <td>None</td>\n",
       "      <td>1</td>\n",
       "    </tr>\n",
       "    <tr>\n",
       "      <th>1</th>\n",
       "      <td>3721745</td>\n",
       "      <td>rdl</td>\n",
       "      <td>rdl</td>\n",
       "      <td>1332119567</td>\n",
       "      <td>2012-03-19 01:12:47+00:00</td>\n",
       "      <td>It's taken as a sign that the company doesn't ...</td>\n",
       "      <td>3721320</td>\n",
       "      <td>None</td>\n",
       "      <td>None</td>\n",
       "      <td>1</td>\n",
       "    </tr>\n",
       "    <tr>\n",
       "      <th>2</th>\n",
       "      <td>5127745</td>\n",
       "      <td>rdl</td>\n",
       "      <td>rdl</td>\n",
       "      <td>1359363674</td>\n",
       "      <td>2013-01-28 09:01:14+00:00</td>\n",
       "      <td>The other question is -- do you want to be Top...</td>\n",
       "      <td>5127269</td>\n",
       "      <td>None</td>\n",
       "      <td>None</td>\n",
       "      <td>1</td>\n",
       "    </tr>\n",
       "    <tr>\n",
       "      <th>3</th>\n",
       "      <td>10105050</td>\n",
       "      <td>rdl</td>\n",
       "      <td>rdl</td>\n",
       "      <td>1440319572</td>\n",
       "      <td>2015-08-23 08:46:12+00:00</td>\n",
       "      <td>Yeah, the pmarca&amp;#x2F;thiel one was dramatical...</td>\n",
       "      <td>10105028</td>\n",
       "      <td>None</td>\n",
       "      <td>None</td>\n",
       "      <td>1</td>\n",
       "    </tr>\n",
       "    <tr>\n",
       "      <th>4</th>\n",
       "      <td>46875</td>\n",
       "      <td>rms</td>\n",
       "      <td>rms</td>\n",
       "      <td>1188186242</td>\n",
       "      <td>2007-08-27 03:44:02+00:00</td>\n",
       "      <td>Doesn't work in Firefox 3; it's still pretty c...</td>\n",
       "      <td>46872</td>\n",
       "      <td>None</td>\n",
       "      <td>None</td>\n",
       "      <td>1</td>\n",
       "    </tr>\n",
       "  </tbody>\n",
       "</table>\n",
       "</div>"
      ],
      "text/plain": [
       "         id   by author        time                   time_ts  \\\n",
       "0   2080961  rdl    rdl  1294431264 2011-01-07 20:14:24+00:00   \n",
       "1   3721745  rdl    rdl  1332119567 2012-03-19 01:12:47+00:00   \n",
       "2   5127745  rdl    rdl  1359363674 2013-01-28 09:01:14+00:00   \n",
       "3  10105050  rdl    rdl  1440319572 2015-08-23 08:46:12+00:00   \n",
       "4     46875  rms    rms  1188186242 2007-08-27 03:44:02+00:00   \n",
       "\n",
       "                                                text    parent deleted  dead  \\\n",
       "0  I think there is some assumption that Amazon r...   2078093    None  None   \n",
       "1  It's taken as a sign that the company doesn't ...   3721320    None  None   \n",
       "2  The other question is -- do you want to be Top...   5127269    None  None   \n",
       "3  Yeah, the pmarca&#x2F;thiel one was dramatical...  10105028    None  None   \n",
       "4  Doesn't work in Firefox 3; it's still pretty c...     46872    None  None   \n",
       "\n",
       "   ranking  \n",
       "0        1  \n",
       "1        1  \n",
       "2        1  \n",
       "3        1  \n",
       "4        1  "
      ]
     },
     "execution_count": 46,
     "metadata": {},
     "output_type": "execute_result"
    }
   ],
   "source": [
    "dataframe.head()"
   ]
  },
  {
   "cell_type": "code",
   "execution_count": 33,
   "metadata": {},
   "outputs": [],
   "source": [
    "df = dataframe[['id', 'by', 'text']]"
   ]
  },
  {
   "cell_type": "code",
   "execution_count": 34,
   "metadata": {},
   "outputs": [
    {
     "data": {
      "text/html": [
       "<div>\n",
       "<style scoped>\n",
       "    .dataframe tbody tr th:only-of-type {\n",
       "        vertical-align: middle;\n",
       "    }\n",
       "\n",
       "    .dataframe tbody tr th {\n",
       "        vertical-align: top;\n",
       "    }\n",
       "\n",
       "    .dataframe thead th {\n",
       "        text-align: right;\n",
       "    }\n",
       "</style>\n",
       "<table border=\"1\" class=\"dataframe\">\n",
       "  <thead>\n",
       "    <tr style=\"text-align: right;\">\n",
       "      <th></th>\n",
       "      <th>id</th>\n",
       "      <th>by</th>\n",
       "      <th>text</th>\n",
       "    </tr>\n",
       "  </thead>\n",
       "  <tbody>\n",
       "    <tr>\n",
       "      <th>0</th>\n",
       "      <td>2080961</td>\n",
       "      <td>rdl</td>\n",
       "      <td>I think there is some assumption that Amazon r...</td>\n",
       "    </tr>\n",
       "    <tr>\n",
       "      <th>1</th>\n",
       "      <td>3721745</td>\n",
       "      <td>rdl</td>\n",
       "      <td>It's taken as a sign that the company doesn't ...</td>\n",
       "    </tr>\n",
       "    <tr>\n",
       "      <th>2</th>\n",
       "      <td>5127745</td>\n",
       "      <td>rdl</td>\n",
       "      <td>The other question is -- do you want to be Top...</td>\n",
       "    </tr>\n",
       "    <tr>\n",
       "      <th>3</th>\n",
       "      <td>10105050</td>\n",
       "      <td>rdl</td>\n",
       "      <td>Yeah, the pmarca&amp;#x2F;thiel one was dramatical...</td>\n",
       "    </tr>\n",
       "    <tr>\n",
       "      <th>4</th>\n",
       "      <td>46875</td>\n",
       "      <td>rms</td>\n",
       "      <td>Doesn't work in Firefox 3; it's still pretty c...</td>\n",
       "    </tr>\n",
       "  </tbody>\n",
       "</table>\n",
       "</div>"
      ],
      "text/plain": [
       "         id   by                                               text\n",
       "0   2080961  rdl  I think there is some assumption that Amazon r...\n",
       "1   3721745  rdl  It's taken as a sign that the company doesn't ...\n",
       "2   5127745  rdl  The other question is -- do you want to be Top...\n",
       "3  10105050  rdl  Yeah, the pmarca&#x2F;thiel one was dramatical...\n",
       "4     46875  rms  Doesn't work in Firefox 3; it's still pretty c..."
      ]
     },
     "execution_count": 34,
     "metadata": {},
     "output_type": "execute_result"
    }
   ],
   "source": [
    "df.head()"
   ]
  },
  {
   "cell_type": "code",
   "execution_count": 42,
   "metadata": {},
   "outputs": [
    {
     "data": {
      "text/plain": [
       "(8399417, 3)"
      ]
     },
     "execution_count": 42,
     "metadata": {},
     "output_type": "execute_result"
    }
   ],
   "source": [
    "df.shape"
   ]
  },
  {
   "cell_type": "code",
   "execution_count": 35,
   "metadata": {},
   "outputs": [],
   "source": [
    "small = df.sample(100)"
   ]
  },
  {
   "cell_type": "code",
   "execution_count": 36,
   "metadata": {},
   "outputs": [
    {
     "data": {
      "text/plain": [
       "(100, 3)"
      ]
     },
     "execution_count": 36,
     "metadata": {},
     "output_type": "execute_result"
    }
   ],
   "source": [
    "small.shape"
   ]
  },
  {
   "cell_type": "code",
   "execution_count": 38,
   "metadata": {},
   "outputs": [],
   "source": [
    "small.to_json('small.json')"
   ]
  },
  {
   "cell_type": "code",
   "execution_count": 40,
   "metadata": {},
   "outputs": [],
   "source": [
    "read = pd.read_json('small.json')"
   ]
  },
  {
   "cell_type": "code",
   "execution_count": 41,
   "metadata": {},
   "outputs": [
    {
     "data": {
      "text/html": [
       "<div>\n",
       "<style scoped>\n",
       "    .dataframe tbody tr th:only-of-type {\n",
       "        vertical-align: middle;\n",
       "    }\n",
       "\n",
       "    .dataframe tbody tr th {\n",
       "        vertical-align: top;\n",
       "    }\n",
       "\n",
       "    .dataframe thead th {\n",
       "        text-align: right;\n",
       "    }\n",
       "</style>\n",
       "<table border=\"1\" class=\"dataframe\">\n",
       "  <thead>\n",
       "    <tr style=\"text-align: right;\">\n",
       "      <th></th>\n",
       "      <th>id</th>\n",
       "      <th>by</th>\n",
       "      <th>text</th>\n",
       "    </tr>\n",
       "  </thead>\n",
       "  <tbody>\n",
       "    <tr>\n",
       "      <th>1053288</th>\n",
       "      <td>8817348</td>\n",
       "      <td>BrainInAJar</td>\n",
       "      <td>it is possible to agree with the general tone ...</td>\n",
       "    </tr>\n",
       "    <tr>\n",
       "      <th>1183776</th>\n",
       "      <td>1909793</td>\n",
       "      <td>MisterWebz</td>\n",
       "      <td>Try Reddit. Wider audience.</td>\n",
       "    </tr>\n",
       "    <tr>\n",
       "      <th>1193520</th>\n",
       "      <td>1088996</td>\n",
       "      <td>ThinkWriteMute</td>\n",
       "      <td>I'd love to see an educational micro-kernel OS...</td>\n",
       "    </tr>\n",
       "    <tr>\n",
       "      <th>1198632</th>\n",
       "      <td>368085</td>\n",
       "      <td>tlrobinson</td>\n",
       "      <td>Perhaps the developer already knows JavaScript...</td>\n",
       "    </tr>\n",
       "    <tr>\n",
       "      <th>1205539</th>\n",
       "      <td>4224529</td>\n",
       "      <td>smacktoward</td>\n",
       "      <td>If someone presents himself to me as a profess...</td>\n",
       "    </tr>\n",
       "  </tbody>\n",
       "</table>\n",
       "</div>"
      ],
      "text/plain": [
       "              id              by  \\\n",
       "1053288  8817348     BrainInAJar   \n",
       "1183776  1909793      MisterWebz   \n",
       "1193520  1088996  ThinkWriteMute   \n",
       "1198632   368085      tlrobinson   \n",
       "1205539  4224529     smacktoward   \n",
       "\n",
       "                                                      text  \n",
       "1053288  it is possible to agree with the general tone ...  \n",
       "1183776                        Try Reddit. Wider audience.  \n",
       "1193520  I'd love to see an educational micro-kernel OS...  \n",
       "1198632  Perhaps the developer already knows JavaScript...  \n",
       "1205539  If someone presents himself to me as a profess...  "
      ]
     },
     "execution_count": 41,
     "metadata": {},
     "output_type": "execute_result"
    }
   ],
   "source": [
    "read.head()"
   ]
  },
  {
   "cell_type": "code",
   "execution_count": 43,
   "metadata": {},
   "outputs": [],
   "source": [
    "df.to_json('comments.json')"
   ]
  },
  {
   "cell_type": "code",
   "execution_count": 44,
   "metadata": {},
   "outputs": [],
   "source": [
    "big_read = pd.read_json('comments.json')"
   ]
  },
  {
   "cell_type": "code",
   "execution_count": 45,
   "metadata": {},
   "outputs": [
    {
     "data": {
      "text/html": [
       "<div>\n",
       "<style scoped>\n",
       "    .dataframe tbody tr th:only-of-type {\n",
       "        vertical-align: middle;\n",
       "    }\n",
       "\n",
       "    .dataframe tbody tr th {\n",
       "        vertical-align: top;\n",
       "    }\n",
       "\n",
       "    .dataframe thead th {\n",
       "        text-align: right;\n",
       "    }\n",
       "</style>\n",
       "<table border=\"1\" class=\"dataframe\">\n",
       "  <thead>\n",
       "    <tr style=\"text-align: right;\">\n",
       "      <th></th>\n",
       "      <th>id</th>\n",
       "      <th>by</th>\n",
       "      <th>text</th>\n",
       "    </tr>\n",
       "  </thead>\n",
       "  <tbody>\n",
       "    <tr>\n",
       "      <th>0</th>\n",
       "      <td>2080961</td>\n",
       "      <td>rdl</td>\n",
       "      <td>I think there is some assumption that Amazon r...</td>\n",
       "    </tr>\n",
       "    <tr>\n",
       "      <th>1</th>\n",
       "      <td>3721745</td>\n",
       "      <td>rdl</td>\n",
       "      <td>It's taken as a sign that the company doesn't ...</td>\n",
       "    </tr>\n",
       "    <tr>\n",
       "      <th>10</th>\n",
       "      <td>2787312</td>\n",
       "      <td>sjs</td>\n",
       "      <td>It's not the best metaphor but it is a relativ...</td>\n",
       "    </tr>\n",
       "    <tr>\n",
       "      <th>100</th>\n",
       "      <td>9396033</td>\n",
       "      <td>nova</td>\n",
       "      <td>&amp;gt; equivalent of low carb diets&lt;p&gt;But they a...</td>\n",
       "    </tr>\n",
       "    <tr>\n",
       "      <th>1000</th>\n",
       "      <td>1731262</td>\n",
       "      <td>metamemetics</td>\n",
       "      <td>I never affirmed or attacked or recognized you...</td>\n",
       "    </tr>\n",
       "  </tbody>\n",
       "</table>\n",
       "</div>"
      ],
      "text/plain": [
       "           id            by                                               text\n",
       "0     2080961           rdl  I think there is some assumption that Amazon r...\n",
       "1     3721745           rdl  It's taken as a sign that the company doesn't ...\n",
       "10    2787312           sjs  It's not the best metaphor but it is a relativ...\n",
       "100   9396033          nova  &gt; equivalent of low carb diets<p>But they a...\n",
       "1000  1731262  metamemetics  I never affirmed or attacked or recognized you..."
      ]
     },
     "execution_count": 45,
     "metadata": {},
     "output_type": "execute_result"
    }
   ],
   "source": [
    "big_read.head()"
   ]
  },
  {
   "cell_type": "code",
   "execution_count": 57,
   "metadata": {},
   "outputs": [],
   "source": [
    "big_reset = big_read.reset_index(drop=True)"
   ]
  },
  {
   "cell_type": "code",
   "execution_count": 59,
   "metadata": {},
   "outputs": [
    {
     "data": {
      "text/html": [
       "<div>\n",
       "<style scoped>\n",
       "    .dataframe tbody tr th:only-of-type {\n",
       "        vertical-align: middle;\n",
       "    }\n",
       "\n",
       "    .dataframe tbody tr th {\n",
       "        vertical-align: top;\n",
       "    }\n",
       "\n",
       "    .dataframe thead th {\n",
       "        text-align: right;\n",
       "    }\n",
       "</style>\n",
       "<table border=\"1\" class=\"dataframe\">\n",
       "  <thead>\n",
       "    <tr style=\"text-align: right;\">\n",
       "      <th></th>\n",
       "      <th>id</th>\n",
       "      <th>by</th>\n",
       "      <th>text</th>\n",
       "    </tr>\n",
       "  </thead>\n",
       "  <tbody>\n",
       "    <tr>\n",
       "      <th>0</th>\n",
       "      <td>2080961</td>\n",
       "      <td>rdl</td>\n",
       "      <td>I think there is some assumption that Amazon r...</td>\n",
       "    </tr>\n",
       "    <tr>\n",
       "      <th>1</th>\n",
       "      <td>3721745</td>\n",
       "      <td>rdl</td>\n",
       "      <td>It's taken as a sign that the company doesn't ...</td>\n",
       "    </tr>\n",
       "    <tr>\n",
       "      <th>957</th>\n",
       "      <td>1758785</td>\n",
       "      <td>rdl</td>\n",
       "      <td>Weird, I've never been charged cover at Old Pro.</td>\n",
       "    </tr>\n",
       "    <tr>\n",
       "      <th>958</th>\n",
       "      <td>5914252</td>\n",
       "      <td>rdl</td>\n",
       "      <td>UDP will give you better performance.  TCP wil...</td>\n",
       "    </tr>\n",
       "    <tr>\n",
       "      <th>959</th>\n",
       "      <td>5114422</td>\n",
       "      <td>rdl</td>\n",
       "      <td>Wow, I had no idea they were processing $10b/y...</td>\n",
       "    </tr>\n",
       "  </tbody>\n",
       "</table>\n",
       "</div>"
      ],
      "text/plain": [
       "          id   by                                               text\n",
       "0    2080961  rdl  I think there is some assumption that Amazon r...\n",
       "1    3721745  rdl  It's taken as a sign that the company doesn't ...\n",
       "957  1758785  rdl   Weird, I've never been charged cover at Old Pro.\n",
       "958  5914252  rdl  UDP will give you better performance.  TCP wil...\n",
       "959  5114422  rdl  Wow, I had no idea they were processing $10b/y..."
      ]
     },
     "execution_count": 59,
     "metadata": {},
     "output_type": "execute_result"
    }
   ],
   "source": [
    "big_reset[big_reset['by']=='rdl'][:5]"
   ]
  },
  {
   "cell_type": "code",
   "execution_count": null,
   "metadata": {},
   "outputs": [],
   "source": []
  }
 ],
 "metadata": {
  "kernelspec": {
   "display_name": "hacker (Python3.7)",
   "language": "python",
   "name": "hacker"
  },
  "language_info": {
   "codemirror_mode": {
    "name": "ipython",
    "version": 3
   },
   "file_extension": ".py",
   "mimetype": "text/x-python",
   "name": "python",
   "nbconvert_exporter": "python",
   "pygments_lexer": "ipython3",
   "version": "3.7.0"
  }
 },
 "nbformat": 4,
 "nbformat_minor": 4
}
