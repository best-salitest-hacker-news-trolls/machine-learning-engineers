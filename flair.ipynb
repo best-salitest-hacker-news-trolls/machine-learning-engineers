{
 "cells": [
  {
   "cell_type": "code",
   "execution_count": 501,
   "metadata": {},
   "outputs": [
    {
     "name": "stdout",
     "output_type": "stream",
     "text": [
      "2020-02-03 15:53:06,539 loading file C:\\Users\\Ryloid\\.flair\\models\\imdb-v0.4.pt\n"
     ]
    }
   ],
   "source": [
    "from flair.models import TextClassifier\n",
    "from flair.data import Sentence\n",
    "from segtok.segmenter import split_single\n",
    "import pandas as pd\n",
    "import re\n",
    "\n",
    "\n",
    "classifier = TextClassifier.load('en-sentiment')"
   ]
  },
  {
   "cell_type": "code",
   "execution_count": 515,
   "metadata": {},
   "outputs": [],
   "source": [
    "def clean(raw):\n",
    "    result = re.sub(\"<[a][^>]*>(.+?)</[a]>\", '', raw)\n",
    "    result = re.sub('&gt;', \"\", result)\n",
    "    result = re.sub('&#x27;', \"'\", result)\n",
    "    result = re.sub('&quot;', '\"', result)\n",
    "    result = re.sub('&#x2F;', ' ', result)\n",
    "    result = re.sub('<p>', '', result)\n",
    "    result = re.sub('</i>', '', result)\n",
    "    result = re.sub('&#62;', '', result)\n",
    "    result = re.sub('<i>', '', result)\n",
    "    result = re.sub(\"\\n\", '', result)\n",
    "    return result\n",
    "\n",
    "def make_sentences(text):\n",
    "    sentences = [sent for sent in split_single(text)]\n",
    "    return sentences\n",
    "\n",
    "def predict(sentence):\n",
    "\n",
    "    text = Sentence(sentence)\n",
    "    classifier.predict(text)\n",
    "    value = text.labels[0].to_dict()['value'] \n",
    "    if value == 'POSITIVE':\n",
    "        result = text.to_dict()['labels'][0]['confidence']\n",
    "    else:\n",
    "        result = -(text.to_dict()['labels'][0]['confidence'])\n",
    "    return round(result, 3)\n",
    "\n",
    "def get_scores(sentences):\n",
    "    results = []\n",
    "    for i in range(len(sentences)): \n",
    "        results.append(predict(sentences[i]))\n",
    "    return results\n",
    "\n",
    "def get_sum(scores):\n",
    "    result = round(sum(scores), 3)\n",
    "    return result"
   ]
  },
  {
   "cell_type": "code",
   "execution_count": 516,
   "metadata": {},
   "outputs": [
    {
     "data": {
      "text/plain": [
       "(96, 3)"
      ]
     },
     "execution_count": 516,
     "metadata": {},
     "output_type": "execute_result"
    }
   ],
   "source": [
    "df = pd.read_json('small.json')\n",
    "df = df.dropna()\n",
    "df = df.reset_index(drop=True)\n",
    "df.shape"
   ]
  },
  {
   "cell_type": "code",
   "execution_count": 517,
   "metadata": {},
   "outputs": [],
   "source": [
    "df.text = df.text.apply(clean)\n",
    "df['sentences'] = df.text.apply(make_sentences)\n",
    "df['scores'] = df['sentences'].apply(get_scores)\n",
    "df['scores_sum'] = df.scores.apply(get_sum)"
   ]
  },
  {
   "cell_type": "code",
   "execution_count": 518,
   "metadata": {},
   "outputs": [
    {
     "data": {
      "text/html": [
       "<div>\n",
       "<style scoped>\n",
       "    .dataframe tbody tr th:only-of-type {\n",
       "        vertical-align: middle;\n",
       "    }\n",
       "\n",
       "    .dataframe tbody tr th {\n",
       "        vertical-align: top;\n",
       "    }\n",
       "\n",
       "    .dataframe thead th {\n",
       "        text-align: right;\n",
       "    }\n",
       "</style>\n",
       "<table border=\"1\" class=\"dataframe\">\n",
       "  <thead>\n",
       "    <tr style=\"text-align: right;\">\n",
       "      <th></th>\n",
       "      <th>id</th>\n",
       "      <th>by</th>\n",
       "      <th>text</th>\n",
       "      <th>sentences</th>\n",
       "      <th>scores</th>\n",
       "      <th>scores_sum</th>\n",
       "    </tr>\n",
       "  </thead>\n",
       "  <tbody>\n",
       "    <tr>\n",
       "      <th>0</th>\n",
       "      <td>8817348</td>\n",
       "      <td>BrainInAJar</td>\n",
       "      <td>it is possible to agree with the general tone ...</td>\n",
       "      <td>[it is possible to agree with the general tone...</td>\n",
       "      <td>[0.999]</td>\n",
       "      <td>0.999</td>\n",
       "    </tr>\n",
       "    <tr>\n",
       "      <th>1</th>\n",
       "      <td>1909793</td>\n",
       "      <td>MisterWebz</td>\n",
       "      <td>Try Reddit. Wider audience.</td>\n",
       "      <td>[Try Reddit., Wider audience.]</td>\n",
       "      <td>[0.581, 0.951]</td>\n",
       "      <td>1.532</td>\n",
       "    </tr>\n",
       "    <tr>\n",
       "      <th>2</th>\n",
       "      <td>1088996</td>\n",
       "      <td>ThinkWriteMute</td>\n",
       "      <td>I'd love to see an educational micro-kernel OS...</td>\n",
       "      <td>[I'd love to see an educational micro-kernel O...</td>\n",
       "      <td>[0.999]</td>\n",
       "      <td>0.999</td>\n",
       "    </tr>\n",
       "    <tr>\n",
       "      <th>3</th>\n",
       "      <td>368085</td>\n",
       "      <td>tlrobinson</td>\n",
       "      <td>Perhaps the developer already knows JavaScript...</td>\n",
       "      <td>[Perhaps the developer already knows JavaScrip...</td>\n",
       "      <td>[-0.987]</td>\n",
       "      <td>-0.987</td>\n",
       "    </tr>\n",
       "    <tr>\n",
       "      <th>4</th>\n",
       "      <td>4224529</td>\n",
       "      <td>smacktoward</td>\n",
       "      <td>If someone presents himself to me as a profess...</td>\n",
       "      <td>[If someone presents himself to me as a profes...</td>\n",
       "      <td>[-0.675]</td>\n",
       "      <td>-0.675</td>\n",
       "    </tr>\n",
       "  </tbody>\n",
       "</table>\n",
       "</div>"
      ],
      "text/plain": [
       "        id              by                                               text  \\\n",
       "0  8817348     BrainInAJar  it is possible to agree with the general tone ...   \n",
       "1  1909793      MisterWebz                        Try Reddit. Wider audience.   \n",
       "2  1088996  ThinkWriteMute  I'd love to see an educational micro-kernel OS...   \n",
       "3   368085      tlrobinson  Perhaps the developer already knows JavaScript...   \n",
       "4  4224529     smacktoward  If someone presents himself to me as a profess...   \n",
       "\n",
       "                                           sentences          scores  \\\n",
       "0  [it is possible to agree with the general tone...         [0.999]   \n",
       "1                     [Try Reddit., Wider audience.]  [0.581, 0.951]   \n",
       "2  [I'd love to see an educational micro-kernel O...         [0.999]   \n",
       "3  [Perhaps the developer already knows JavaScrip...        [-0.987]   \n",
       "4  [If someone presents himself to me as a profes...        [-0.675]   \n",
       "\n",
       "   scores_sum  \n",
       "0       0.999  \n",
       "1       1.532  \n",
       "2       0.999  \n",
       "3      -0.987  \n",
       "4      -0.675  "
      ]
     },
     "execution_count": 518,
     "metadata": {},
     "output_type": "execute_result"
    }
   ],
   "source": [
    "df.head()"
   ]
  },
  {
   "cell_type": "code",
   "execution_count": 520,
   "metadata": {},
   "outputs": [
    {
     "name": "stdout",
     "output_type": "stream",
     "text": [
      "POSITIVE SCORE: 2.862\n",
      "Very nice project. I'm late to the party but here's my upvote! :) \n",
      "\n",
      "POSITIVE SCORE: 4.106\n",
      "It likely would work. Facebook heavily hinted at strong social integration with the OR. I likely see Facebook doing this or at least they gave me that impression in their stock holders call.It makes a lot of sense. I certainly would use it. The big \"draw\" for me. Would be watching movies with my friends, in a full theater settings, despite continents of separation. \n",
      "\n",
      "POSITIVE SCORE: 3.923\n",
      "This is how big companies work.  They want even the smallest task (like, \"viewing documentation for the product we just bought\") to take days and require multiple levels of managerial approval.  Because I guess it's cheaper to have 10 employees doing the same job than it is to get sued if one employee posts confidential information to a blog, or something.  (If you've ever wondered why you only get 0.00025% interest on your savings account... now you know.)(This is being downmodded, but it's really true, at least where I work.  The IT system is set up for HR people and bank tellers, not programmers.  So the programmers just have to deal, because the system isn't setup for \"average joe\" employees to do anything useful.  The good news is, we bought some company that says they won't be able to continue doing business if this stuff doesn't change, and the company we bought is more prestigious than we are ;) \n",
      "\n",
      "NEGATIVE SCORE: -2.028\n",
      "I was going to say the same thing. I probably edit at least 50 percent of my comments here and on reddit within a minute, and delete about 25 percent. Presumably a pause in mail sending would have a similar effect. \n",
      "\n",
      "NEGATIVE SCORE: -2.537\n",
      "The letdown of Hulu Plus and the horrendous monstrosity that is Netflix (and its even worse iPad app) are at least movements in the right direction. I find solace in the mere idea that one day I might be able to go to a website, select an episode, and watch television content on my computer screen.I don't know why this is so hard. I am willing to pay money for it! I will open my wallet and pay money to watch TV on my computer! Even with ads! \n",
      "\n",
      "NEGATIVE SCORE: -2.93\n",
      "When I got my current laptop about 1 1/2 years ago I didn't install an ad-blocker (or NoScript or FlashBlock) and really don't care anymore. Ads improved over the last view years.My solution for sites with crazy ad banners/skyscrapers (too colorful, too much movement or - worst of all - play sound) is simply to stop visiting them. Sidenote: If I tend  to somehow return over and over again they get an entry in /etc/hosts).And yes, pop-ups are blocked (as it's default in Chrome) \n",
      "\n",
      "POSITIVE SCORE: 2.337\n",
      " Yeah.. it really doesn't. The DoJ would be all over their ass if there was really a case to be made there.This just shows that you don't understand what a monopoly is.  Monopolies are not in themselves illegal, so there is no reason for the DoJ to get involved unless they break one of the laws regarding what monopolies can and can't do.And, of course they are being investigated for doing exactly that in Europe. \n",
      "\n",
      "NEGATIVE SCORE: -6.213\n",
      "According to your graph, GINI went up (from 34 to 38%) after taxes and transfers as well.Just because a random variable that is the aggregate of many other random variables (college enrollment) is not sufficient to make statements about one of the component random variables (college tuition) does not mean that it's unfalsifiable.So how do you falsify it?Also, I didn't ask about a relation between tuition and graduation. I asked about a relation between inequality and enrollment.The underlying paper by Bailey and Dynarski [5] documents pretty clearly that income inequality translates into inequality in educational attainment...Looking at educational attainment* as opposed to enrollment is a bit, um, confusing. Is it your assertion that a higher GINI somehow makes the poor (specifically poor women, if we go by that paper) less willing to study than their richer counterparts?Not that it matters, since the paper doesn't look at inequality at all. All it shows is that higher quintiles have higher graduation rates - this is completely unrelated to the question of whether increasing the size of quintiles effects graduation rates.Also, if you read your source [5] (the middle, not the conclusions), you'd discover that the strongest explanation they have of their results is that children of poorer parents are not as smart as children of rich parents, which explains half the gap. So unless your claim is that higher GINI makes poor kids stupid, it's nonsensical to claim inequality has anything to do with graduation rates.I give up. You have unfalsifiable beliefs which are somehow supported by academic papers on completely unrelated topics. Not anything for me to learn here. \n",
      "\n",
      "NEGATIVE SCORE: -2.288\n",
      "I feel compelled to point out that comparing share price alone is terribly, horribly wrong.To illustrate, the phrase \"BTC is the price of an Apple share\" could, by some people, be taken to mean \"BitCoin is worth more than Apple\". In reality, the BitCoin market cap right now is $6 billion, and Apple's is $472 billion.Comparing shares (and, by extension, the value of BTC) on price alone is worse than useless. Unfortunately many people insist on doing it, especially (at least it seems to me) in the US (which I guess makes sense, since the Dow Jones is weighted not on market cap, but share price, an equally nonsensical way of doing things). \n",
      "\n",
      "POSITIVE SCORE: 2.545\n",
      "Not as successful as the other ones here, but it's starting to show promise. I created it to help people that can't surf into Google Map's in their own language. the link's forces the selected language manually and ignore the automatic language detection.Started a few months ago and it's already covering my hosting in ad revenue. hopefully I'll have better numbers to report on the next Round of \"...best passive income..\" :) \n",
      "\n",
      "POSITIVE SCORE: 2.78\n",
      "It's strange - because it would be so easy to make a reasonable one:1. Users must give a comment with their endorsement2. That comment must be at least 141 characters long.3. Allow users to \"agree\" with endorsements. Let the owner choose the order. \n",
      "\n",
      "POSITIVE SCORE: 2.201\n",
      "It's all relative. I live close to my parents, and have the privilege of having dinner with them about once every other week. Meanwhile, if I'm lucky, I get to see my best friend who lives far away once every 6 months. Given this disparity, I would greatly prefer hanging out with my friend during the holidays rather than burning vacation days spending time with my nuclear family (who I see often) and extended family (who I am not close with at all) just because tradition dictates that I should do so. \n",
      "\n",
      "POSITIVE SCORE: 2.985\n",
      "Sure, but that will require users to get used to a different layout. Dvorak () does this. It isn't very popular though, as it's few people want to spend time relearning how to touch type. \n",
      "\n"
     ]
    }
   ],
   "source": [
    "for x in range(0, 96):\n",
    "    sample, scores_sum = df.loc[x]['text'], df.loc[x]['scores_sum']\n",
    "    \n",
    "    if scores_sum > 2:\n",
    "        print(\"POSITIVE SCORE:\", scores_sum)\n",
    "        print(sample, \"\\n\")\n",
    "    elif scores_sum < -2:\n",
    "        print(\"NEGATIVE SCORE:\", scores_sum)\n",
    "        print(sample, \"\\n\")"
   ]
  },
  {
   "cell_type": "code",
   "execution_count": null,
   "metadata": {},
   "outputs": [],
   "source": []
  }
 ],
 "metadata": {
  "kernelspec": {
   "display_name": "hacker (Python3.7)",
   "language": "python",
   "name": "hacker"
  },
  "language_info": {
   "codemirror_mode": {
    "name": "ipython",
    "version": 3
   },
   "file_extension": ".py",
   "mimetype": "text/x-python",
   "name": "python",
   "nbconvert_exporter": "python",
   "pygments_lexer": "ipython3",
   "version": "3.7.0"
  }
 },
 "nbformat": 4,
 "nbformat_minor": 4
}
