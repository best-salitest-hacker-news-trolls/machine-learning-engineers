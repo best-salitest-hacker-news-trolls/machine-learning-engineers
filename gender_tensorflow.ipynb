{
 "cells": [
  {
   "cell_type": "code",
   "execution_count": 4,
   "metadata": {},
   "outputs": [],
   "source": [
    "MODEL_FILE = 'TwitterInferredGender.h5'\n",
    "MODEL_DIR = '.'\n",
    "EMBEDDING_DIM = 512\n",
    "DOWNLOAD_MODEL = False  # set to false if re-running without runtime restart \n",
    "INSTALL_TF = False"
   ]
  },
  {
   "cell_type": "code",
   "execution_count": 5,
   "metadata": {},
   "outputs": [],
   "source": [
    "import tensorflow as tf\n",
    "import pandas as pd\n",
    "import numpy as np\n",
    "import os\n",
    "import tensorflow_hub as hub\n",
    "import tensorflow.keras.backend as K\n",
    "from tensorflow.keras.models import Model, load_model\n",
    "from tensorflow.keras.layers import Layer\n",
    "import tensorflow.keras.layers as layers\n",
    "from tensorflow.keras.optimizers import Adam, Adagrad"
   ]
  },
  {
   "cell_type": "code",
   "execution_count": 6,
   "metadata": {},
   "outputs": [],
   "source": [
    "class USEEmbeddingLayer(Layer):\n",
    "    def __init__(self, trainable=True, **kwargs):\n",
    "        self.dimensions = EMBEDDING_DIM\n",
    "        super(USEEmbeddingLayer, self).__init__(**kwargs)\n",
    "        self.trainable=trainable\n",
    "\n",
    "    def build(self, input_shape):\n",
    "        self.use = hub.Module('https://tfhub.dev/google/universal-sentence-encoder-large/3', trainable=True,\n",
    "                               name=\"{}_module\".format(self.name))\n",
    "        wts = tf.trainable_variables(scope=\".*{}_module/.*\".format(self.name))\n",
    "        wts = [v for v in wts if not (\"SNLI\" in v.name or \"SHARED_RANK_ANSWER\" in v.name)]\n",
    "        if len(wts)>0:\n",
    "          if self.trainable:\n",
    "            self._trainable_weights += wts\n",
    "          else:\n",
    "            self._non_trainable_weights += wts\n",
    "        else:\n",
    "          print('WARNING: No weights in Embedding Layer')\n",
    "        super(USEEmbeddingLayer, self).build(input_shape)\n",
    "\n",
    "   \n",
    "    def call(self, x, mask=None):\n",
    "        result = self.use(tf.squeeze(tf.cast(x, tf.string), axis=1))\n",
    "        return result\n",
    "\n",
    "    def compute_mask(self, inputs, mask=None):\n",
    "        return tf.not_equal(inputs, '--PAD--')\n",
    "\n",
    "    def compute_output_shape(self, input_shape):\n",
    "        return (input_shape[0], self.dimensions)"
   ]
  },
  {
   "cell_type": "code",
   "execution_count": 7,
   "metadata": {},
   "outputs": [],
   "source": [
    "def build_model(): \n",
    "  input_text = layers.Input(shape=(1,), dtype=\"string\")\n",
    "  embedding = USEEmbeddingLayer(trainable=False)(input_text)\n",
    "  dense1 = layers.Dense(512, activation='relu')(embedding)\n",
    "\n",
    "  dropout0 = layers.Dropout(0)(dense1)\n",
    "  pred = layers.Dense(1, activation='sigmoid')(dropout0)\n",
    "\n",
    "  model = Model(inputs=[input_text], outputs=pred)\n",
    "\n",
    "  return model"
   ]
  },
  {
   "cell_type": "code",
   "execution_count": 8,
   "metadata": {},
   "outputs": [
    {
     "data": {
      "text/plain": [
       "'1.13.1'"
      ]
     },
     "execution_count": 8,
     "metadata": {},
     "output_type": "execute_result"
    }
   ],
   "source": [
    "tf.__version__"
   ]
  },
  {
   "cell_type": "code",
   "execution_count": 9,
   "metadata": {},
   "outputs": [
    {
     "name": "stdout",
     "output_type": "stream",
     "text": [
      "WARNING:tensorflow:From C:\\Users\\Ryloid\\Anaconda3\\envs\\U4-S3-DNN\\lib\\site-packages\\tensorflow\\python\\ops\\control_flow_ops.py:3632: colocate_with (from tensorflow.python.framework.ops) is deprecated and will be removed in a future version.\n",
      "Instructions for updating:\n",
      "Colocations handled automatically by placer.\n"
     ]
    },
    {
     "name": "stderr",
     "output_type": "stream",
     "text": [
      "WARNING: Logging before flag parsing goes to stderr.\n",
      "W0204 23:03:12.715416 16400 deprecation.py:323] From C:\\Users\\Ryloid\\Anaconda3\\envs\\U4-S3-DNN\\lib\\site-packages\\tensorflow\\python\\ops\\control_flow_ops.py:3632: colocate_with (from tensorflow.python.framework.ops) is deprecated and will be removed in a future version.\n",
      "Instructions for updating:\n",
      "Colocations handled automatically by placer.\n"
     ]
    },
    {
     "name": "stdout",
     "output_type": "stream",
     "text": [
      "INFO:tensorflow:Saver not created because there are no variables in the graph to restore\n"
     ]
    },
    {
     "name": "stderr",
     "output_type": "stream",
     "text": [
      "I0204 23:03:13.731699 16400 saver.py:1483] Saver not created because there are no variables in the graph to restore\n"
     ]
    },
    {
     "name": "stdout",
     "output_type": "stream",
     "text": [
      "WARNING:tensorflow:From C:\\Users\\Ryloid\\Anaconda3\\envs\\U4-S3-DNN\\lib\\site-packages\\tensorflow\\python\\keras\\layers\\core.py:143: calling dropout (from tensorflow.python.ops.nn_ops) with keep_prob is deprecated and will be removed in a future version.\n",
      "Instructions for updating:\n",
      "Please use `rate` instead of `keep_prob`. Rate should be set to `rate = 1 - keep_prob`.\n"
     ]
    },
    {
     "name": "stderr",
     "output_type": "stream",
     "text": [
      "W0204 23:03:13.844398 16400 deprecation.py:506] From C:\\Users\\Ryloid\\Anaconda3\\envs\\U4-S3-DNN\\lib\\site-packages\\tensorflow\\python\\keras\\layers\\core.py:143: calling dropout (from tensorflow.python.ops.nn_ops) with keep_prob is deprecated and will be removed in a future version.\n",
      "Instructions for updating:\n",
      "Please use `rate` instead of `keep_prob`. Rate should be set to `rate = 1 - keep_prob`.\n"
     ]
    },
    {
     "name": "stdout",
     "output_type": "stream",
     "text": [
      "Wall time: 2.02 s\n"
     ]
    }
   ],
   "source": [
    "%%time\n",
    "model = build_model()"
   ]
  },
  {
   "cell_type": "code",
   "execution_count": 10,
   "metadata": {},
   "outputs": [],
   "source": [
    "init = tf.global_variables_initializer()\n",
    "table_init = tf.tables_initializer()\n",
    "sess = tf.Session()\n",
    "sess.run([init, table_init])\n",
    "K.set_session(sess)\n",
    "\n",
    "model_path = os.path.join(MODEL_DIR, MODEL_FILE)\n",
    "model.load_weights(model_path)"
   ]
  },
  {
   "cell_type": "code",
   "execution_count": 11,
   "metadata": {},
   "outputs": [],
   "source": [
    "def sex(s):  # Calculate estimated probability that tweeter is male\n",
    "    it = model.predict(np.array([s]).reshape(-1,1))[0][0]\n",
    "    return(it)"
   ]
  },
  {
   "cell_type": "code",
   "execution_count": null,
   "metadata": {},
   "outputs": [],
   "source": [
    "def get_scores(sentences):\n",
    "    results = []\n",
    "    for i in range(len(sentences)): \n",
    "        if sex(sentences[i]) > 0.5:\n",
    "            results.append(sex(sentences[i]))\n",
    "        elif sex(sentences[i]) < 0.5:\n",
    "            results.append(-sex(sentences[i]))\n",
    "    return results\n",
    "\n",
    "def get_sum(scores):\n",
    "    result = round(sum(scores), 3)\n",
    "    return result"
   ]
  },
  {
   "cell_type": "code",
   "execution_count": 2,
   "metadata": {},
   "outputs": [],
   "source": [
    "import pandas as pd \n",
    "df = pd.read_json('10000_predictions_extra.json')"
   ]
  },
  {
   "cell_type": "code",
   "execution_count": 3,
   "metadata": {},
   "outputs": [
    {
     "data": {
      "text/html": [
       "<div>\n",
       "<style scoped>\n",
       "    .dataframe tbody tr th:only-of-type {\n",
       "        vertical-align: middle;\n",
       "    }\n",
       "\n",
       "    .dataframe tbody tr th {\n",
       "        vertical-align: top;\n",
       "    }\n",
       "\n",
       "    .dataframe thead th {\n",
       "        text-align: right;\n",
       "    }\n",
       "</style>\n",
       "<table border=\"1\" class=\"dataframe\">\n",
       "  <thead>\n",
       "    <tr style=\"text-align: right;\">\n",
       "      <th></th>\n",
       "      <th>id</th>\n",
       "      <th>by</th>\n",
       "      <th>text</th>\n",
       "      <th>sentences</th>\n",
       "      <th>scores</th>\n",
       "      <th>scores_sum</th>\n",
       "      <th>sex</th>\n",
       "      <th>sex_sum</th>\n",
       "    </tr>\n",
       "  </thead>\n",
       "  <tbody>\n",
       "    <tr>\n",
       "      <th>0</th>\n",
       "      <td>3635676</td>\n",
       "      <td>JoeAltmaier</td>\n",
       "      <td>So now I do the legwork for articles, instead ...</td>\n",
       "      <td>[So now I do the legwork for articles, instead...</td>\n",
       "      <td>[-1.0, 0.89, -1.0, -0.9560000000000001, 0.788,...</td>\n",
       "      <td>0.735</td>\n",
       "      <td>[0.6119707227, 0.5237882137000001, 0.617572486...</td>\n",
       "      <td>4.425</td>\n",
       "    </tr>\n",
       "    <tr>\n",
       "      <th>1</th>\n",
       "      <td>7235858</td>\n",
       "      <td>pessimizer</td>\n",
       "      <td>Even more clarification: never talk to police....</td>\n",
       "      <td>[Even more clarification: never talk to police...</td>\n",
       "      <td>[0.993, 0.925, 0.676]</td>\n",
       "      <td>2.594</td>\n",
       "      <td>[-0.49952897430000004, 0.5629577637000001, 0.6...</td>\n",
       "      <td>0.687</td>\n",
       "    </tr>\n",
       "    <tr>\n",
       "      <th>10</th>\n",
       "      <td>6375636</td>\n",
       "      <td>pessimizer</td>\n",
       "      <td>SSRIs are also like  placebos in that they hav...</td>\n",
       "      <td>[SSRIs are also like  placebos in that they ha...</td>\n",
       "      <td>[0.581]</td>\n",
       "      <td>0.581</td>\n",
       "      <td>[0.5725314021]</td>\n",
       "      <td>0.573</td>\n",
       "    </tr>\n",
       "    <tr>\n",
       "      <th>100</th>\n",
       "      <td>322984</td>\n",
       "      <td>ivankirigin</td>\n",
       "      <td>He's saying it has been done.</td>\n",
       "      <td>[He's saying it has been done.]</td>\n",
       "      <td>[0.997]</td>\n",
       "      <td>0.997</td>\n",
       "      <td>[0.6127984524]</td>\n",
       "      <td>0.613</td>\n",
       "    </tr>\n",
       "    <tr>\n",
       "      <th>1000</th>\n",
       "      <td>2258802</td>\n",
       "      <td>__david__</td>\n",
       "      <td>It looks like you would have to implement USB...</td>\n",
       "      <td>[It looks like you would have to implement USB...</td>\n",
       "      <td>[-1.0, -0.973]</td>\n",
       "      <td>-1.973</td>\n",
       "      <td>[0.7784828544, 0.5308563709]</td>\n",
       "      <td>1.309</td>\n",
       "    </tr>\n",
       "  </tbody>\n",
       "</table>\n",
       "</div>"
      ],
      "text/plain": [
       "           id           by                                               text  \\\n",
       "0     3635676  JoeAltmaier  So now I do the legwork for articles, instead ...   \n",
       "1     7235858   pessimizer  Even more clarification: never talk to police....   \n",
       "10    6375636   pessimizer  SSRIs are also like  placebos in that they hav...   \n",
       "100    322984  ivankirigin                      He's saying it has been done.   \n",
       "1000  2258802    __david__   It looks like you would have to implement USB...   \n",
       "\n",
       "                                              sentences  \\\n",
       "0     [So now I do the legwork for articles, instead...   \n",
       "1     [Even more clarification: never talk to police...   \n",
       "10    [SSRIs are also like  placebos in that they ha...   \n",
       "100                     [He's saying it has been done.]   \n",
       "1000  [It looks like you would have to implement USB...   \n",
       "\n",
       "                                                 scores  scores_sum  \\\n",
       "0     [-1.0, 0.89, -1.0, -0.9560000000000001, 0.788,...       0.735   \n",
       "1                                 [0.993, 0.925, 0.676]       2.594   \n",
       "10                                              [0.581]       0.581   \n",
       "100                                             [0.997]       0.997   \n",
       "1000                                     [-1.0, -0.973]      -1.973   \n",
       "\n",
       "                                                    sex  sex_sum  \n",
       "0     [0.6119707227, 0.5237882137000001, 0.617572486...    4.425  \n",
       "1     [-0.49952897430000004, 0.5629577637000001, 0.6...    0.687  \n",
       "10                                       [0.5725314021]    0.573  \n",
       "100                                      [0.6127984524]    0.613  \n",
       "1000                       [0.7784828544, 0.5308563709]    1.309  "
      ]
     },
     "execution_count": 3,
     "metadata": {},
     "output_type": "execute_result"
    }
   ],
   "source": [
    "df.head()"
   ]
  },
  {
   "cell_type": "code",
   "execution_count": 14,
   "metadata": {},
   "outputs": [],
   "source": [
    "%% time # about 30 minutes \n",
    "\n",
    "df['sex'] = df['sentences'].apply(get_scores)"
   ]
  },
  {
   "cell_type": "code",
   "execution_count": 15,
   "metadata": {},
   "outputs": [],
   "source": [
    "df['sex_sum'] = df.sex.apply(get_sum)"
   ]
  },
  {
   "cell_type": "code",
   "execution_count": 9,
   "metadata": {},
   "outputs": [
    {
     "data": {
      "text/html": [
       "<div>\n",
       "<style scoped>\n",
       "    .dataframe tbody tr th:only-of-type {\n",
       "        vertical-align: middle;\n",
       "    }\n",
       "\n",
       "    .dataframe tbody tr th {\n",
       "        vertical-align: top;\n",
       "    }\n",
       "\n",
       "    .dataframe thead th {\n",
       "        text-align: right;\n",
       "    }\n",
       "</style>\n",
       "<table border=\"1\" class=\"dataframe\">\n",
       "  <thead>\n",
       "    <tr style=\"text-align: right;\">\n",
       "      <th></th>\n",
       "      <th>scores_sum</th>\n",
       "      <th>sex_sum</th>\n",
       "    </tr>\n",
       "    <tr>\n",
       "      <th>id</th>\n",
       "      <th></th>\n",
       "      <th></th>\n",
       "    </tr>\n",
       "  </thead>\n",
       "  <tbody>\n",
       "    <tr>\n",
       "      <th>3022411</th>\n",
       "      <td>-10.046</td>\n",
       "      <td>19.309</td>\n",
       "    </tr>\n",
       "    <tr>\n",
       "      <th>330212</th>\n",
       "      <td>-9.069</td>\n",
       "      <td>11.014</td>\n",
       "    </tr>\n",
       "    <tr>\n",
       "      <th>49709</th>\n",
       "      <td>-8.787</td>\n",
       "      <td>16.762</td>\n",
       "    </tr>\n",
       "    <tr>\n",
       "      <th>7579487</th>\n",
       "      <td>-7.980</td>\n",
       "      <td>7.260</td>\n",
       "    </tr>\n",
       "    <tr>\n",
       "      <th>4376220</th>\n",
       "      <td>-7.968</td>\n",
       "      <td>18.154</td>\n",
       "    </tr>\n",
       "    <tr>\n",
       "      <th>1781266</th>\n",
       "      <td>-7.813</td>\n",
       "      <td>5.637</td>\n",
       "    </tr>\n",
       "    <tr>\n",
       "      <th>2060677</th>\n",
       "      <td>-7.618</td>\n",
       "      <td>4.547</td>\n",
       "    </tr>\n",
       "    <tr>\n",
       "      <th>5305464</th>\n",
       "      <td>-7.577</td>\n",
       "      <td>10.648</td>\n",
       "    </tr>\n",
       "    <tr>\n",
       "      <th>1166606</th>\n",
       "      <td>-7.511</td>\n",
       "      <td>-0.191</td>\n",
       "    </tr>\n",
       "    <tr>\n",
       "      <th>6157105</th>\n",
       "      <td>-7.005</td>\n",
       "      <td>6.732</td>\n",
       "    </tr>\n",
       "  </tbody>\n",
       "</table>\n",
       "</div>"
      ],
      "text/plain": [
       "         scores_sum  sex_sum\n",
       "id                          \n",
       "3022411     -10.046   19.309\n",
       "330212       -9.069   11.014\n",
       "49709        -8.787   16.762\n",
       "7579487      -7.980    7.260\n",
       "4376220      -7.968   18.154\n",
       "1781266      -7.813    5.637\n",
       "2060677      -7.618    4.547\n",
       "5305464      -7.577   10.648\n",
       "1166606      -7.511   -0.191\n",
       "6157105      -7.005    6.732"
      ]
     },
     "execution_count": 9,
     "metadata": {},
     "output_type": "execute_result"
    }
   ],
   "source": [
    "df.groupby('id').mean().sort_values(by='scores_sum', ascending=True)[:10]"
   ]
  },
  {
   "cell_type": "code",
   "execution_count": 13,
   "metadata": {},
   "outputs": [
    {
     "data": {
      "text/plain": [
       "'Some entertaining bits from the article: \"How many Mac applications still support OS X 10.2? 10.3? 10.4?\" \"Then why should we be so conservative when it comes to C++, the very core of what we work with?\" \"C++11 is a much more productive language than C++98. We as an industry can, however, only reap that productivity gain if we stop throwing C++ productivity out of the window by the bucket-load in the hopeless pursuit of compatibility with non-standard implementations.\" I\\'m as much for iconoclasm as the next person, but this whole C++ madness is starting to make me worry. While the rest of us have been off in the trenches of maintenance and production, some cabal of academics and chuckleheads has been cooking up this monstrosity of a language, and now it is finally coming to a head. Folks, conservatism in software design is appreciated--in language design, essential. Python 3 is still not support by many useful libraries. Perl 5, over ten years later, is still in production and use. ECMA/Javascript is only now really taking off, after 15 years. And on the darker, even more depressing side of things, you\\'ve still F77 codes in \"production\" and  active maintenance--a friend of mine who is a graduate student is dealing with this right now. These are souls being fed to the gaping maw of legacy code. I\\'m sure C++ has some interesting features. I understand, for example, why the \"auto\" keyword is being given new meaning (because the syntax of the STL, classes, and templates is so mindnumbingly awful!). I understand why explicit defaulting and deleting of function might lead to cleaner code (regardless of, say, an explicit that already exists). I understand why I might want 3 different declensions of \\'u\\' in front of a string to support various forms of Unicode (where is your liberalism about forcing everyone to using UTF-8 and being done with it?). I also understand that D probably has a better execution on these ideas than C++. And that Javascript and C# have a better implementation of lambdas and closures. And that for raw power and readability, C with embedded assembly (still!) can probably eat the lunch of any C++.(for an example of rational language evolution, see C1X: Link. ) And that C++ still doesn\\'t have anything other than a crackheaded set of half-idioms for exporting classes for dynamic linking in a crossplatform way, or even for binding to another language! Go ask the poor bastard who wrote SWIG\\'s comments on the same--he quit programming for several years to stop dealing with C++\\'s increasing garbage. I feel reasonable in saying this: C++ is not going away soon. One day (even sooner if you are in academic circles and dealing with libraries) we maintenance programmers are going to have to start dealing with code written to take advantage of the new features in C++11. And on that day, all of us will be wondering why the hell we are still using that katamari of language features, instead of something less baroque--perhaps Perl.'"
      ]
     },
     "execution_count": 13,
     "metadata": {},
     "output_type": "execute_result"
    }
   ],
   "source": [
    "df.loc[1058].text"
   ]
  },
  {
   "cell_type": "code",
   "execution_count": null,
   "metadata": {},
   "outputs": [],
   "source": []
  }
 ],
 "metadata": {
  "kernelspec": {
   "display_name": "U4-S3-DNN (Python3)",
   "language": "python",
   "name": "u4-s3-dnn"
  },
  "language_info": {
   "codemirror_mode": {
    "name": "ipython",
    "version": 3
   },
   "file_extension": ".py",
   "mimetype": "text/x-python",
   "name": "python",
   "nbconvert_exporter": "python",
   "pygments_lexer": "ipython3",
   "version": "3.7.0"
  }
 },
 "nbformat": 4,
 "nbformat_minor": 4
}
